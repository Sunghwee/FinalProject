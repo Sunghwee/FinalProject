{
 "cells": [
  {
   "cell_type": "code",
<<<<<<< HEAD
   "execution_count": 4,
   "metadata": {},
   "outputs": [
    {
     "name": "stdout",
     "output_type": "stream",
     "text": [
      "Enter a location: Philadelphia\n",
      "The date is: 11 Dec 2018\n",
      "The forecast for this date is: Sunny\n",
      "The high will be: 41\n",
      "The low will be: 23\n",
      " \n",
      "The date is: 12 Dec 2018\n",
      "The forecast for this date is: Partly Cloudy\n",
      "The high will be: 41\n",
      "The low will be: 29\n",
      " \n",
      "The date is: 13 Dec 2018\n",
      "The forecast for this date is: Mostly Cloudy\n",
      "The high will be: 41\n",
      "The low will be: 30\n",
      " \n",
      "The date is: 14 Dec 2018\n",
      "The forecast for this date is: Scattered Showers\n",
      "The high will be: 49\n",
      "The low will be: 38\n",
      " \n",
      "The date is: 15 Dec 2018\n",
      "The forecast for this date is: Showers\n",
      "The high will be: 51\n",
      "The low will be: 43\n",
      " \n",
      "The date is: 16 Dec 2018\n",
      "The forecast for this date is: Partly Cloudy\n",
      "The high will be: 46\n",
      "The low will be: 38\n",
      " \n",
      "The date is: 17 Dec 2018\n",
      "The forecast for this date is: Partly Cloudy\n",
      "The high will be: 47\n",
      "The low will be: 35\n",
      " \n",
      "The date is: 18 Dec 2018\n",
      "The forecast for this date is: Partly Cloudy\n",
      "The high will be: 39\n",
      "The low will be: 33\n",
      " \n",
      "The date is: 19 Dec 2018\n",
      "The forecast for this date is: Partly Cloudy\n",
      "The high will be: 40\n",
      "The low will be: 28\n",
      " \n",
      "The date is: 20 Dec 2018\n",
      "The forecast for this date is: Mostly Cloudy\n",
      "The high will be: 45\n",
      "The low will be: 31\n",
      " \n"
     ]
    }
   ],
=======
   "execution_count": null,
   "metadata": {},
   "outputs": [],
>>>>>>> 603f00c00d6599522f7828c8f79ae37224d4857a
   "source": [
    "from weather import Weather, Unit\n",
    "weather = Weather(unit=Unit.FAHRENHEIT)\n",
    "location = weather.lookup_by_location('Syracuse')\n",
    "lookup = weather.lookup(560743)\n",
    "condition = lookup.condition\n",
    "weather = Weather(unit=Unit.FAHRENHEIT)\n",
    "\n",
    "location = weather.lookup_by_location(input(\"Enter a location: \"))\n",
    "forecasts = location.forecast\n",
    "for forecast in forecasts:\n",
    "    print(\"The date is:\", forecast.date)\n",
    "    print(\"The forecast for this date is:\", forecast.text)\n",
    "    print(\"The high will be:\", forecast.high)\n",
    "    print(\"The low will be:\", forecast.low)\n",
    "    print(\" \")"
   ]
  },
  {
   "cell_type": "code",
   "execution_count": 10,
   "metadata": {},
   "outputs": [],
   "source": [
    "# Install the Python Requests library:\n",
    "# `pip install requests`\n",
    "\n",
    "import base64\n",
    "import requests\n",
    "import pandas as pd\n",
    "\n",
    "\n",
    "def send_request(city, name):\n",
    "    # Request\n",
    "\n",
    "    try:\n",
    "        response = requests.get(\n",
    "            url='https://api.mysportsfeeds.com/v1.0/pull/nfl/2018-regular/full_game_schedule.json',\n",
    "            params={\n",
    "                \"team\": \"%s-%s\" % (city, team),\n",
    "                'date': 'since-yesterday'\n",
    "            },\n",
    "            headers={\n",
    "                \"Authorization\": \"Basic \" + base64.b64encode('{}:{}'.format('d8571ffb-4154-48c3-ad76-6572e6','Daniel1025').encode('utf-8')).decode('ascii')\n",
    "            }\n",
    "        )\n",
    "        \n",
    "        sched=response.json()\n",
    "        week=sched['fullgameschedule']['gameentry'][0:]\n",
    "        week_df = pd.DataFrame(week)\n",
    "        week_df = pd.DataFrame(week_df[['date', 'time', 'location']])\n",
    "        return week_df\n",
    "    except requests.exceptions.RequestException:\n",
    "        print('HTTP Request failed')"
   ]
  },
  {
   "cell_type": "code",
   "execution_count": 11,
   "metadata": {},
   "outputs": [
    {
     "name": "stdout",
     "output_type": "stream",
     "text": [
      "Enter team's city: Buffalo\n",
      "Enter a team name: Bills\n"
     ]
    }
   ],
   "source": [
    "city = input(\"Enter team's city: \")\n",
    "team = input(\"Enter a team name: \")"
   ]
  },
  {
   "cell_type": "code",
   "execution_count": 12,
   "metadata": {},
   "outputs": [
    {
     "data": {
      "text/html": [
       "<div>\n",
       "<style scoped>\n",
       "    .dataframe tbody tr th:only-of-type {\n",
       "        vertical-align: middle;\n",
       "    }\n",
       "\n",
       "    .dataframe tbody tr th {\n",
       "        vertical-align: top;\n",
       "    }\n",
       "\n",
       "    .dataframe thead th {\n",
       "        text-align: right;\n",
       "    }\n",
       "</style>\n",
       "<table border=\"1\" class=\"dataframe\">\n",
       "  <thead>\n",
       "    <tr style=\"text-align: right;\">\n",
       "      <th></th>\n",
       "      <th>date</th>\n",
       "      <th>time</th>\n",
       "      <th>location</th>\n",
       "    </tr>\n",
       "  </thead>\n",
       "  <tbody>\n",
       "    <tr>\n",
       "      <th>0</th>\n",
       "      <td>2018-12-09</td>\n",
       "      <td>1:00PM</td>\n",
       "      <td>New Era Field</td>\n",
       "    </tr>\n",
       "    <tr>\n",
       "      <th>1</th>\n",
       "      <td>2018-12-16</td>\n",
       "      <td>1:00PM</td>\n",
       "      <td>New Era Field</td>\n",
       "    </tr>\n",
       "    <tr>\n",
       "      <th>2</th>\n",
       "      <td>2018-12-23</td>\n",
       "      <td>1:00PM</td>\n",
       "      <td>Gillette Stadium</td>\n",
       "    </tr>\n",
       "    <tr>\n",
       "      <th>3</th>\n",
       "      <td>2018-12-30</td>\n",
       "      <td>1:00PM</td>\n",
       "      <td>New Era Field</td>\n",
       "    </tr>\n",
       "  </tbody>\n",
       "</table>\n",
       "</div>"
      ],
      "text/plain": [
       "         date    time          location\n",
       "0  2018-12-09  1:00PM     New Era Field\n",
       "1  2018-12-16  1:00PM     New Era Field\n",
       "2  2018-12-23  1:00PM  Gillette Stadium\n",
       "3  2018-12-30  1:00PM     New Era Field"
      ]
     },
     "execution_count": 12,
     "metadata": {},
     "output_type": "execute_result"
    }
   ],
   "source": [
    "send_request(city, team)"
   ]
  },
  {
   "cell_type": "code",
   "execution_count": null,
   "metadata": {},
   "outputs": [],
   "source": []
  }
 ],
 "metadata": {
  "kernelspec": {
   "display_name": "Python 3",
   "language": "python",
   "name": "python3"
  },
  "language_info": {
   "codemirror_mode": {
    "name": "ipython",
    "version": 3
   },
   "file_extension": ".py",
   "mimetype": "text/x-python",
   "name": "python",
   "nbconvert_exporter": "python",
   "pygments_lexer": "ipython3",
   "version": "3.6.6"
  }
 },
 "nbformat": 4,
 "nbformat_minor": 2
}
