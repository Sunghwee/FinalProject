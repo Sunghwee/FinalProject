{
 "cells": [
  {
   "cell_type": "code",
   "execution_count": 19,
   "metadata": {},
   "outputs": [
    {
     "name": "stdout",
     "output_type": "stream",
     "text": [
      "Enter a location: Syracuse\n",
      "The date is: 28 Nov 2018\n",
      "The forecast for this date is: Rain And Snow\n",
      "The high will be: 33\n",
      "The low will be: 29\n",
      " \n",
      "The date is: 29 Nov 2018\n",
      "The forecast for this date is: Cloudy\n",
      "The high will be: 33\n",
      "The low will be: 31\n",
      " \n",
      "The date is: 30 Nov 2018\n",
      "The forecast for this date is: Cloudy\n",
      "The high will be: 33\n",
      "The low will be: 29\n",
      " \n",
      "The date is: 01 Dec 2018\n",
      "The forecast for this date is: Showers\n",
      "The high will be: 37\n",
      "The low will be: 30\n",
      " \n",
      "The date is: 02 Dec 2018\n",
      "The forecast for this date is: Showers\n",
      "The high will be: 49\n",
      "The low will be: 38\n",
      " \n",
      "The date is: 03 Dec 2018\n",
      "The forecast for this date is: Scattered Showers\n",
      "The high will be: 42\n",
      "The low will be: 31\n",
      " \n",
      "The date is: 04 Dec 2018\n",
      "The forecast for this date is: Cloudy\n",
      "The high will be: 32\n",
      "The low will be: 29\n",
      " \n",
      "The date is: 05 Dec 2018\n",
      "The forecast for this date is: Mostly Cloudy\n",
      "The high will be: 29\n",
      "The low will be: 25\n",
      " \n",
      "The date is: 06 Dec 2018\n",
      "The forecast for this date is: Snow\n",
      "The high will be: 28\n",
      "The low will be: 24\n",
      " \n",
      "The date is: 07 Dec 2018\n",
      "The forecast for this date is: Mostly Cloudy\n",
      "The high will be: 30\n",
      "The low will be: 22\n",
      " \n"
     ]
    }
   ],
   "source": [
    "from weather import Weather, Unit\n",
    "weather = Weather(unit=Unit.FAHRENHEIT)\n",
    "location = weather.lookup_by_location('Syracuse')\n",
    "lookup = weather.lookup(560743)\n",
    "condition = lookup.condition\n",
    "weather = Weather(unit=Unit.FAHRENHEIT)\n",
    "\n",
    "location = weather.lookup_by_location(input(\"Enter a location: \"))\n",
    "forecasts = location.forecast\n",
    "for forecast in forecasts:\n",
    "    print(\"The date is:\", forecast.date)\n",
    "    print(\"The forecast for this date is:\", forecast.text)\n",
    "    print(\"The high will be:\", forecast.high)\n",
    "    print(\"The low will be:\", forecast.low)\n",
    "    print(\" \")"
   ]
  },
  {
   "cell_type": "code",
   "execution_count": null,
   "metadata": {},
   "outputs": [],
   "source": []
  }
 ],
 "metadata": {
  "kernelspec": {
   "display_name": "Python 3",
   "language": "python",
   "name": "python3"
  },
  "language_info": {
   "codemirror_mode": {
    "name": "ipython",
    "version": 3
   },
   "file_extension": ".py",
   "mimetype": "text/x-python",
   "name": "python",
   "nbconvert_exporter": "python",
   "pygments_lexer": "ipython3",
   "version": "3.6.6"
  }
 },
 "nbformat": 4,
 "nbformat_minor": 2
}
