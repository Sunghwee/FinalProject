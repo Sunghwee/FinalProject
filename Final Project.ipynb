{
 "cells": [
  {
   "cell_type": "code",
   "execution_count": 4,
   "metadata": {},
   "outputs": [
    {
     "name": "stdout",
     "output_type": "stream",
     "text": [
      "Enter a location: Philadelphia\n",
      "The date is: 11 Dec 2018\n",
      "The forecast for this date is: Sunny\n",
      "The high will be: 41\n",
      "The low will be: 23\n",
      " \n",
      "The date is: 12 Dec 2018\n",
      "The forecast for this date is: Partly Cloudy\n",
      "The high will be: 41\n",
      "The low will be: 29\n",
      " \n",
      "The date is: 13 Dec 2018\n",
      "The forecast for this date is: Mostly Cloudy\n",
      "The high will be: 41\n",
      "The low will be: 30\n",
      " \n",
      "The date is: 14 Dec 2018\n",
      "The forecast for this date is: Scattered Showers\n",
      "The high will be: 49\n",
      "The low will be: 38\n",
      " \n",
      "The date is: 15 Dec 2018\n",
      "The forecast for this date is: Showers\n",
      "The high will be: 51\n",
      "The low will be: 43\n",
      " \n",
      "The date is: 16 Dec 2018\n",
      "The forecast for this date is: Partly Cloudy\n",
      "The high will be: 46\n",
      "The low will be: 38\n",
      " \n",
      "The date is: 17 Dec 2018\n",
      "The forecast for this date is: Partly Cloudy\n",
      "The high will be: 47\n",
      "The low will be: 35\n",
      " \n",
      "The date is: 18 Dec 2018\n",
      "The forecast for this date is: Partly Cloudy\n",
      "The high will be: 39\n",
      "The low will be: 33\n",
      " \n",
      "The date is: 19 Dec 2018\n",
      "The forecast for this date is: Partly Cloudy\n",
      "The high will be: 40\n",
      "The low will be: 28\n",
      " \n",
      "The date is: 20 Dec 2018\n",
      "The forecast for this date is: Mostly Cloudy\n",
      "The high will be: 45\n",
      "The low will be: 31\n",
      " \n"
     ]
    }
   ],
   "source": [
    "from weather import Weather, Unit\n",
    "weather = Weather(unit=Unit.FAHRENHEIT)\n",
    "location = weather.lookup_by_location('Syracuse')\n",
    "lookup = weather.lookup(560743)\n",
    "condition = lookup.condition\n",
    "weather = Weather(unit=Unit.FAHRENHEIT)\n",
    "\n",
    "location = weather.lookup_by_location(input(\"Enter a location: \"))\n",
    "forecasts = location.forecast\n",
    "for forecast in forecasts:\n",
    "    print(\"The date is:\", forecast.date)\n",
    "    print(\"The forecast for this date is:\", forecast.text)\n",
    "    print(\"The high will be:\", forecast.high)\n",
    "    print(\"The low will be:\", forecast.low)\n",
    "    print(\" \")"
   ]
  },
  {
   "cell_type": "code",
   "execution_count": null,
   "metadata": {},
   "outputs": [],
   "source": []
  }
 ],
 "metadata": {
  "kernelspec": {
   "display_name": "Python 3",
   "language": "python",
   "name": "python3"
  },
  "language_info": {
   "codemirror_mode": {
    "name": "ipython",
    "version": 3
   },
   "file_extension": ".py",
   "mimetype": "text/x-python",
   "name": "python",
   "nbconvert_exporter": "python",
   "pygments_lexer": "ipython3",
   "version": "3.6.6"
  }
 },
 "nbformat": 4,
 "nbformat_minor": 2
}
