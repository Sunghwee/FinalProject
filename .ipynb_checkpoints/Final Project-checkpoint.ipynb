{
 "cells": [
  {
   "cell_type": "code",
   "execution_count": null,
   "metadata": {},
   "outputs": [],
   "source": [
    "from weather import Weather, Unit\n",
    "weather = Weather(unit=Unit.FAHRENHEIT)\n",
    "location = weather.lookup_by_location('Syracuse')\n",
    "lookup = weather.lookup(560743)\n",
    "condition = lookup.condition\n",
    "weather = Weather(unit=Unit.FAHRENHEIT)\n",
    "\n",
    "location = weather.lookup_by_location(input(\"Enter a location: \"))\n",
    "forecasts = location.forecast\n",
    "for forecast in forecasts:\n",
    "    print(\"The date is:\", forecast.date)\n",
    "    print(\"The forecast for this date is:\", forecast.text)\n",
    "    print(\"The high will be:\", forecast.high)\n",
    "    print(\"The low will be:\", forecast.low)\n",
    "    print(\" \")"
   ]
  },
  {
   "cell_type": "code",
   "execution_count": 4,
   "metadata": {},
   "outputs": [],
   "source": [
    "# Install the Python Requests library:\n",
    "# `pip install requests`\n",
    "\n",
    "import base64\n",
    "import requests\n",
    "import pandas as pd\n",
    "\n",
    "\n",
    "def send_request(city, name):\n",
    "    # Request\n",
    "\n",
    "    try:\n",
    "        response = requests.get(\n",
    "            url='https://api.mysportsfeeds.com/v1.0/pull/nfl/2018-regular/full_game_schedule.json',\n",
    "            params={\n",
    "                \"team\": \"%s-%s\" % (city, team),\n",
    "                'date': 'since-yesterday'\n",
    "            },\n",
    "            headers={\n",
    "                \"Authorization\": \"Basic \" + base64.b64encode('{}:{}'.format('d8571ffb-4154-48c3-ad76-6572e6','Daniel1025').encode('utf-8')).decode('ascii')\n",
    "            }\n",
    "        )\n",
    "        \n",
    "        sched=response.json()\n",
    "        week=sched['fullgameschedule']['gameentry'][0:]\n",
    "        week_df = pd.DataFrame(week)\n",
    "        week_df = pd.DataFrame(week_df[['date', 'time']])\n",
    "        return week\n",
    "    except requests.exceptions.RequestException:\n",
    "        print('HTTP Request failed')"
   ]
  },
  {
   "cell_type": "code",
   "execution_count": 5,
   "metadata": {},
   "outputs": [
    {
     "name": "stdout",
     "output_type": "stream",
     "text": [
      "Enter team's city: buffalo\n",
      "Enter a team name: bills\n"
     ]
    }
   ],
   "source": [
    "city = input(\"Enter team's city: \")\n",
    "team = input(\"Enter a team name: \")"
   ]
  },
  {
   "cell_type": "code",
   "execution_count": 6,
   "metadata": {},
   "outputs": [
    {
     "data": {
      "text/plain": [
       "[{'id': '46145',\n",
       "  'date': '2018-12-09',\n",
       "  'time': '1:00PM',\n",
       "  'awayTeam': {'ID': '51',\n",
       "   'City': 'New York',\n",
       "   'Name': 'Jets',\n",
       "   'Abbreviation': 'NYJ'},\n",
       "  'homeTeam': {'ID': '48',\n",
       "   'City': 'Buffalo',\n",
       "   'Name': 'Bills',\n",
       "   'Abbreviation': 'BUF'},\n",
       "  'location': 'New Era Field'},\n",
       " {'id': '46161',\n",
       "  'date': '2018-12-16',\n",
       "  'time': '1:00PM',\n",
       "  'awayTeam': {'ID': '61',\n",
       "   'City': 'Detroit',\n",
       "   'Name': 'Lions',\n",
       "   'Abbreviation': 'DET'},\n",
       "  'homeTeam': {'ID': '48',\n",
       "   'City': 'Buffalo',\n",
       "   'Name': 'Bills',\n",
       "   'Abbreviation': 'BUF'},\n",
       "  'location': 'New Era Field'},\n",
       " {'id': '46169',\n",
       "  'date': '2018-12-23',\n",
       "  'time': '1:00PM',\n",
       "  'awayTeam': {'ID': '48',\n",
       "   'City': 'Buffalo',\n",
       "   'Name': 'Bills',\n",
       "   'Abbreviation': 'BUF'},\n",
       "  'homeTeam': {'ID': '50',\n",
       "   'City': 'New England',\n",
       "   'Name': 'Patriots',\n",
       "   'Abbreviation': 'NE'},\n",
       "  'location': 'Gillette Stadium'},\n",
       " {'id': '46193',\n",
       "  'date': '2018-12-30',\n",
       "  'time': '1:00PM',\n",
       "  'awayTeam': {'ID': '49',\n",
       "   'City': 'Miami',\n",
       "   'Name': 'Dolphins',\n",
       "   'Abbreviation': 'MIA'},\n",
       "  'homeTeam': {'ID': '48',\n",
       "   'City': 'Buffalo',\n",
       "   'Name': 'Bills',\n",
       "   'Abbreviation': 'BUF'},\n",
       "  'location': 'New Era Field'}]"
      ]
     },
     "execution_count": 6,
     "metadata": {},
     "output_type": "execute_result"
    }
   ],
   "source": [
    "send_request(city, team)"
   ]
  },
  {
   "cell_type": "code",
   "execution_count": null,
   "metadata": {},
   "outputs": [],
   "source": [
    "send_request(city, team)"
   ]
  },
  {
   "cell_type": "code",
   "execution_count": null,
   "metadata": {},
   "outputs": [],
   "source": []
  },
  {
   "cell_type": "code",
   "execution_count": null,
   "metadata": {},
   "outputs": [],
   "source": []
  }
 ],
 "metadata": {
  "kernelspec": {
   "display_name": "Python 3",
   "language": "python",
   "name": "python3"
  },
  "language_info": {
   "codemirror_mode": {
    "name": "ipython",
    "version": 3
   },
   "file_extension": ".py",
   "mimetype": "text/x-python",
   "name": "python",
   "nbconvert_exporter": "python",
   "pygments_lexer": "ipython3",
   "version": "3.6.6"
  }
 },
 "nbformat": 4,
 "nbformat_minor": 2
}
