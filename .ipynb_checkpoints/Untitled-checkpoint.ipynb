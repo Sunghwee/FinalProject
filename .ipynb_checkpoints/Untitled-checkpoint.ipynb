{
 "cells": [
  {
   "cell_type": "code",
   "execution_count": 1,
   "metadata": {},
   "outputs": [
    {
     "name": "stdout",
     "output_type": "stream",
     "text": [
      "Mostly Cloudy\n"
     ]
    }
   ],
   "source": [
    "from weather import Weather, Unit\n",
    "\n",
    "weather = Weather(unit=Unit.CELSIUS)\n",
    "\n",
    "lookup = weather.lookup(560743)\n",
    "condition = lookup.condition\n",
    "\n",
    "print(condition.text)"
   ]
  },
  {
   "cell_type": "code",
   "execution_count": 9,
   "metadata": {},
   "outputs": [
    {
     "name": "stdout",
     "output_type": "stream",
     "text": [
      "Breezy\n"
     ]
    }
   ],
   "source": [
    "weather = Weather(unit=Unit.CELSIUS)\n",
    "location = weather.lookup_by_location('philadelphia')\n",
    "condition = location.condition\n",
    "print(condition.text)"
   ]
  },
  {
   "cell_type": "code",
   "execution_count": null,
   "metadata": {},
   "outputs": [],
   "source": []
  }
 ],
 "metadata": {
  "kernelspec": {
   "display_name": "Python 3",
   "language": "python",
   "name": "python3"
  },
  "language_info": {
   "codemirror_mode": {
    "name": "ipython",
    "version": 3
   },
   "file_extension": ".py",
   "mimetype": "text/x-python",
   "name": "python",
   "nbconvert_exporter": "python",
   "pygments_lexer": "ipython3",
   "version": "3.6.6"
  }
 },
 "nbformat": 4,
 "nbformat_minor": 2
}
