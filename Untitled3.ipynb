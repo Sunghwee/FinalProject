{
 "cells": [
  {
   "cell_type": "code",
   "execution_count": 82,
   "metadata": {},
   "outputs": [
    {
     "data": {
      "text/plain": [
       "{'lastUpdatedOn': '2018-12-11 3:42:49 PM',\n",
       " 'gameentry': [{'id': '46158',\n",
       "   'date': '2018-12-16',\n",
       "   'time': '1:00PM',\n",
       "   'awayTeam': {'ID': '67',\n",
       "    'City': 'Tennessee',\n",
       "    'Name': 'Titans',\n",
       "    'Abbreviation': 'TEN'},\n",
       "   'homeTeam': {'ID': '53',\n",
       "    'City': 'New York',\n",
       "    'Name': 'Giants',\n",
       "    'Abbreviation': 'NYG'},\n",
       "   'location': 'MetLife Stadium'},\n",
       "  {'id': '46175',\n",
       "   'date': '2018-12-23',\n",
       "   'time': '1:00PM',\n",
       "   'awayTeam': {'ID': '53',\n",
       "    'City': 'New York',\n",
       "    'Name': 'Giants',\n",
       "    'Abbreviation': 'NYG'},\n",
       "   'homeTeam': {'ID': '65',\n",
       "    'City': 'Indianapolis',\n",
       "    'Name': 'Colts',\n",
       "    'Abbreviation': 'IND'},\n",
       "   'location': 'Lucas Oil Stadium'},\n",
       "  {'id': '46189',\n",
       "   'date': '2018-12-30',\n",
       "   'time': '1:00PM',\n",
       "   'awayTeam': {'ID': '52',\n",
       "    'City': 'Dallas',\n",
       "    'Name': 'Cowboys',\n",
       "    'Abbreviation': 'DAL'},\n",
       "   'homeTeam': {'ID': '53',\n",
       "    'City': 'New York',\n",
       "    'Name': 'Giants',\n",
       "    'Abbreviation': 'NYG'},\n",
       "   'location': 'MetLife Stadium'}]}"
      ]
     },
     "execution_count": 82,
     "metadata": {},
     "output_type": "execute_result"
    }
   ],
   "source": [
    "import base64\n",
    "import requests\n",
    "import pandas as pd\n",
    "\n",
    "response = requests.get(\n",
    "        url='https://api.mysportsfeeds.com/v1.0/pull/nfl/2018-regular/full_game_schedule.json',\n",
    "        params={\n",
    "            \"team\": \"%s-%s\" % ('NewYork', 'Giants'),\n",
    "            'date': 'since-yesterday'\n",
    "        },\n",
    "        headers={\n",
    "            \"Authorization\": \"Basic \" + base64.b64encode('{}:{}'.format('d8571ffb-4154-48c3-ad76-6572e6','Daniel1025').encode('utf-8')).decode('ascii')\n",
    "        }\n",
    "    )\n",
    "        \n",
    "sched=response.json()\n",
    "week=sched['fullgameschedule']\n",
    "\n",
    "\n",
    "week"
   ]
  },
  {
   "cell_type": "code",
   "execution_count": 80,
   "metadata": {},
   "outputs": [
    {
     "data": {
      "text/plain": [
       "{'lastUpdatedOn': '2018-12-11 3:42:49 PM'}"
      ]
     },
     "execution_count": 80,
     "metadata": {},
     "output_type": "execute_result"
    }
   ],
   "source": [
    "week"
   ]
  },
  {
   "cell_type": "code",
   "execution_count": 52,
   "metadata": {},
   "outputs": [],
   "source": [
    "for team in week:\n",
    "    awayteamname = (str(team['awayTeam']['City'])+' '+ str(team['awayTeam']['Name']))\n",
    "    team['away'] = awayteamname"
   ]
  },
  {
   "cell_type": "code",
   "execution_count": 53,
   "metadata": {},
   "outputs": [
    {
     "data": {
      "text/plain": [
       "[{'id': '46161',\n",
       "  'date': '2018-12-16',\n",
       "  'time': '1:00PM',\n",
       "  'awayTeam': {'ID': '61',\n",
       "   'City': 'Detroit',\n",
       "   'Name': 'Lions',\n",
       "   'Abbreviation': 'DET'},\n",
       "  'homeTeam': {'ID': '48',\n",
       "   'City': 'Buffalo',\n",
       "   'Name': 'Bills',\n",
       "   'Abbreviation': 'BUF'},\n",
       "  'location': 'New Era Field',\n",
       "  'away': 'Detroit Lions'},\n",
       " {'id': '46169',\n",
       "  'date': '2018-12-23',\n",
       "  'time': '1:00PM',\n",
       "  'awayTeam': {'ID': '48',\n",
       "   'City': 'Buffalo',\n",
       "   'Name': 'Bills',\n",
       "   'Abbreviation': 'BUF'},\n",
       "  'homeTeam': {'ID': '50',\n",
       "   'City': 'New England',\n",
       "   'Name': 'Patriots',\n",
       "   'Abbreviation': 'NE'},\n",
       "  'location': 'Gillette Stadium',\n",
       "  'away': 'Buffalo Bills'},\n",
       " {'id': '46193',\n",
       "  'date': '2018-12-30',\n",
       "  'time': '1:00PM',\n",
       "  'awayTeam': {'ID': '49',\n",
       "   'City': 'Miami',\n",
       "   'Name': 'Dolphins',\n",
       "   'Abbreviation': 'MIA'},\n",
       "  'homeTeam': {'ID': '48',\n",
       "   'City': 'Buffalo',\n",
       "   'Name': 'Bills',\n",
       "   'Abbreviation': 'BUF'},\n",
       "  'location': 'New Era Field',\n",
       "  'away': 'Miami Dolphins'}]"
      ]
     },
     "execution_count": 53,
     "metadata": {},
     "output_type": "execute_result"
    }
   ],
   "source": [
    "week"
   ]
  },
  {
   "cell_type": "code",
   "execution_count": null,
   "metadata": {},
   "outputs": [],
   "source": []
  }
 ],
 "metadata": {
  "kernelspec": {
   "display_name": "Python 3",
   "language": "python",
   "name": "python3"
  },
  "language_info": {
   "codemirror_mode": {
    "name": "ipython",
    "version": 3
   },
   "file_extension": ".py",
   "mimetype": "text/x-python",
   "name": "python",
   "nbconvert_exporter": "python",
   "pygments_lexer": "ipython3",
   "version": "3.6.6"
  }
 },
 "nbformat": 4,
 "nbformat_minor": 2
}
